{
  "nbformat": 4,
  "nbformat_minor": 0,
  "metadata": {
    "colab": {
      "private_outputs": true,
      "provenance": []
    },
    "kernelspec": {
      "name": "python3",
      "display_name": "Python 3"
    },
    "language_info": {
      "name": "python"
    }
  },
  "cells": [
    {
      "cell_type": "code",
      "execution_count": null,
      "metadata": {
        "id": "ejJpCoAdTUDs"
      },
      "outputs": [],
      "source": [
        "from google.colab import drive #Memanggil Package Import Drive\n",
        "drive.mount('/content/drive')\n",
        "#1.URL,2.UPLOAD CSV,DATASET YANG DI SEDIAKAN OLEH SKLEARN\n",
        "#SKLEARN = LIBRARY/PACKAGE YANG MENUMPANG METODE ATAU ALGORITMA UNTUK MACHIINE LEARNING"
      ]
    },
    {
      "cell_type": "code",
      "source": [
        "import pandas as pd #Manipulasi Data\n",
        "\n",
        "path = '/content/drive/MyDrive/csv/NEGARA-INDONESIA - Sheet1.csv'\n",
        "\n",
        "df =pd.read_csv(path)\n",
        "\n",
        "df.describe()"
      ],
      "metadata": {
        "id": "Y-TPzPkIWyq8"
      },
      "execution_count": null,
      "outputs": []
    },
    {
      "cell_type": "code",
      "source": [
        "df.info()"
      ],
      "metadata": {
        "id": "tteSTwLZXkc2"
      },
      "execution_count": null,
      "outputs": []
    },
    {
      "cell_type": "code",
      "source": [
        "df"
      ],
      "metadata": {
        "id": "VRbWTAGxYD4a"
      },
      "execution_count": null,
      "outputs": []
    },
    {
      "cell_type": "code",
      "source": [
        "df.shape #Mencari Julmlah Kolom Dari Baris"
      ],
      "metadata": {
        "id": "Qjps2eWcYHFw"
      },
      "execution_count": null,
      "outputs": []
    },
    {
      "cell_type": "code",
      "source": [
        "df.isnull().sum() #Mencari Data Kosong"
      ],
      "metadata": {
        "id": "KdvPMwbVYV23"
      },
      "execution_count": null,
      "outputs": []
    },
    {
      "cell_type": "code",
      "source": [
        "import matplotlib.pyplot as plt \n",
        "df.plot(kind='scatter', x='Life expectancy', y='percentage expenditure')\n",
        "plt.title('Indonesia')\n",
        "plt.xlabel('Life expectancy')\n",
        "plt.ylabel('percentage expenditure')\n",
        "plt.xlim(66,69)\n",
        "plt.ylim(0, 15)\n",
        "plt.grid(True)\n",
        "plt.show()"
      ],
      "metadata": {
        "id": "WnoCQjL6a2-u"
      },
      "execution_count": null,
      "outputs": []
    },
    {
      "cell_type": "code",
      "source": [
        "import numpy as np\n",
        "x = np.array(df['Life expectancy']) #Feacture\n",
        "y = np.array(df['percentage expenditure']) #Feacture\n",
        "\n",
        "print(f'x : {x}') # Data x itu adalah variable independent atau bebas\n",
        "print(f'y : {y}') #Var y itu adalah variable terikat/dependet"
      ],
      "metadata": {
        "id": "blkz9xVKtMe2"
      },
      "execution_count": null,
      "outputs": []
    },
    {
      "cell_type": "code",
      "source": [
        "x = x.reshape(-1, 1)\n",
        "x.shape"
      ],
      "metadata": {
        "id": "z-Y9imX6Bt9d"
      },
      "execution_count": null,
      "outputs": []
    },
    {
      "cell_type": "code",
      "source": [
        "x"
      ],
      "metadata": {
        "id": "KO8XnEU8BxHH"
      },
      "execution_count": null,
      "outputs": []
    },
    {
      "cell_type": "code",
      "source": [],
      "metadata": {
        "id": "YZBua7AxwRB8"
      },
      "execution_count": null,
      "outputs": []
    }
  ]
}